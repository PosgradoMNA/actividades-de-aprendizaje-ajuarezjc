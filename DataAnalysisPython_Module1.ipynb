{
  "nbformat": 4,
  "nbformat_minor": 0,
  "metadata": {
    "colab": {
      "provenance": [],
      "collapsed_sections": [],
      "authorship_tag": "ABX9TyMIJSNprGCrY19HT14n6Uj/",
      "include_colab_link": true
    },
    "kernelspec": {
      "name": "python3",
      "display_name": "Python 3"
    },
    "language_info": {
      "name": "python"
    }
  },
  "cells": [
    {
      "cell_type": "markdown",
      "metadata": {
        "id": "view-in-github",
        "colab_type": "text"
      },
      "source": [
        "<a href=\"https://colab.research.google.com/github/PosgradoMNA/actividades-de-aprendizaje-ajuarezjc/blob/main/DataAnalysisPython_Module1.ipynb\" target=\"_parent\"><img src=\"https://colab.research.google.com/assets/colab-badge.svg\" alt=\"Open In Colab\"/></a>"
      ]
    },
    {
      "cell_type": "markdown",
      "source": [
        "Module 1: Data Analysis with Python\n",
        "\n",
        "Alejandro Juárez C\n",
        "A01168444\n"
      ],
      "metadata": {
        "id": "iZGIypjiIxU7"
      }
    },
    {
      "cell_type": "markdown",
      "source": [
        "Libraries to be used:\n",
        "\n",
        "\n",
        "*   Scientific Computing libraries\n",
        "  *   Pandas\n",
        "  *   Numpy\n",
        "\n",
        "*   Data visualization\n",
        "  *   Matplotlib\n",
        "  *   Seaborn\n",
        "\n",
        "*   Machine Learning\n",
        "  *   Scikit-learn\n",
        "  *   StatsModels\n",
        "\n"
      ],
      "metadata": {
        "id": "VzbOHKXMJUKt"
      }
    },
    {
      "cell_type": "markdown",
      "source": [
        "Notes on importing data\n",
        "\n",
        "Factors to consider using Pandas to import data:\n",
        "-Format: .csv, .json, .xlsx, .hdf\n",
        "-Path: where the data is stored. Can be online or locally\n",
        "\n",
        "Read CSV in pandas\n",
        "import pandas as pd\n",
        "url = SET URL OR PATH\n",
        "dataFrame = pd.read_csv(path, header, columns)\n",
        "where\n",
        "path = path where the data is saved (local or internet)\n",
        "header = Set to NONE when the data imported has no integrated headers (column names), else the first row could be set as headers\n",
        "columns = array with names of columns\n",
        "\n",
        "Showing the dataframe\n",
        "dataframe.head(n): Displays (n) first rows of data\n",
        "dataframe.tail(n): DIsplays lasts (n) rows of data\n",
        "\n",
        "Setting columns names after dataframe is created\n",
        "dataframe.columns = arrayOfColumnNames\n",
        "\n",
        "To save a dataframe to csv\n",
        "dataframe.to_csv(path) where\n",
        "path = path where the new csv will be saved\n",
        "\n",
        "To import/read or save other types of files with pandas:\n",
        "Format / Read / Save\n",
        "csv / pd.read_csv() / df.to_csv()\n",
        "json / pd.read_json() / df.to_json()\n",
        "Excel / pd.read_excel() / df.to_excel()\n",
        "sql / pd.read_sql() / df.to_sql()\n"
      ],
      "metadata": {
        "id": "Nr5yHidNKNfg"
      }
    },
    {
      "cell_type": "markdown",
      "source": [
        "Notes on Analyzing Data\n",
        "\n",
        "Pandas vs Python Datatypes\n",
        "object - string\n",
        "int64 - int\n",
        "float64 - float\n",
        "datetime64, timedelta[ns] - Check datetime module in Python\n",
        "\n",
        "WE PREVIOUSLY GOT OUR DATAFRAME IMPORTED AS df\n",
        "\n",
        "Checking the datatypes of columns\n",
        "df.dtypes\n",
        "\n",
        "Checking the statistical metrics of the data\n",
        "df.describe()\n",
        "Use df.describe(include=\"all\") when wanting to include non-numerical columns\n",
        "\n",
        "Checking top 30 and bottom 30 rows \n",
        "df.info()"
      ],
      "metadata": {
        "id": "-z1h2ul9OLBc"
      }
    },
    {
      "cell_type": "code",
      "execution_count": null,
      "metadata": {
        "id": "-CRr-o0j8iOt"
      },
      "outputs": [],
      "source": []
    }
  ]
}