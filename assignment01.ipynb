{
  "nbformat": 4,
  "nbformat_minor": 0,
  "metadata": {
    "colab": {
      "name": "assignment01.ipynb",
      "provenance": [],
      "collapsed_sections": []
    },
    "kernelspec": {
      "name": "python3",
      "display_name": "Python 3"
    },
    "language_info": {
      "name": "python"
    }
  },
  "cells": [
    {
      "cell_type": "code",
      "execution_count": null,
      "metadata": {
        "id": "LzUSMM79NR9P",
        "outputId": "5b628e0a-7acc-40b7-8a7a-334cee31fe2f",
        "colab": {
          "base_uri": "https://localhost:8080/"
        }
      },
      "outputs": [
        {
          "output_type": "stream",
          "name": "stdout",
          "text": [
            "Hello, World!\n"
          ]
        }
      ],
      "source": [
        "print(\"Hello, World!\")"
      ]
    },
    {
      "cell_type": "code",
      "source": [
        "# Print the traditional hello world\n",
        "print(\"Hello, World!\")"
      ],
      "metadata": {
        "id": "mxM_WppZPMFx",
        "colab": {
          "base_uri": "https://localhost:8080/"
        },
        "outputId": "03f54592-fcbf-4923-bf18-c92dacbad0aa"
      },
      "execution_count": null,
      "outputs": [
        {
          "output_type": "stream",
          "name": "stdout",
          "text": [
            "Hello, World!\n"
          ]
        }
      ]
    },
    {
      "cell_type": "code",
      "source": [
        "type(12)\n",
        "type(2.14)\n",
        "type(\"Hello, Python 101\")\n",
        "type(12.0)"
      ],
      "metadata": {
        "colab": {
          "base_uri": "https://localhost:8080/"
        },
        "id": "M2WHPWMg26eO",
        "outputId": "6e5c010c-e3b1-46ce-c0c3-4cb5bf3d72f1"
      },
      "execution_count": null,
      "outputs": [
        {
          "output_type": "execute_result",
          "data": {
            "text/plain": [
              "float"
            ]
          },
          "metadata": {},
          "execution_count": 5
        }
      ]
    },
    {
      "cell_type": "code",
      "source": [
        "type(2)"
      ],
      "metadata": {
        "colab": {
          "base_uri": "https://localhost:8080/"
        },
        "id": "Lg3e7L8c3ezr",
        "outputId": "2cadee98-16a0-426a-aa49-d1797b8121ae"
      },
      "execution_count": null,
      "outputs": [
        {
          "output_type": "execute_result",
          "data": {
            "text/plain": [
              "int"
            ]
          },
          "metadata": {},
          "execution_count": 6
        }
      ]
    },
    {
      "cell_type": "code",
      "source": [
        "float(2)"
      ],
      "metadata": {
        "colab": {
          "base_uri": "https://localhost:8080/"
        },
        "id": "86hXydVW3hJc",
        "outputId": "de0e2c52-1806-4015-f6fd-2c3a524b63a1"
      },
      "execution_count": null,
      "outputs": [
        {
          "output_type": "execute_result",
          "data": {
            "text/plain": [
              "2.0"
            ]
          },
          "metadata": {},
          "execution_count": 7
        }
      ]
    },
    {
      "cell_type": "code",
      "source": [
        "type(float(2))"
      ],
      "metadata": {
        "colab": {
          "base_uri": "https://localhost:8080/"
        },
        "id": "Fk9pRrGJ3pFv",
        "outputId": "99729d12-a6a8-40ee-db4a-437714d4880a"
      },
      "execution_count": null,
      "outputs": [
        {
          "output_type": "execute_result",
          "data": {
            "text/plain": [
              "float"
            ]
          },
          "metadata": {},
          "execution_count": 8
        }
      ]
    },
    {
      "cell_type": "code",
      "source": [
        "int(1.1)"
      ],
      "metadata": {
        "colab": {
          "base_uri": "https://localhost:8080/"
        },
        "id": "n4KNB8MH4BP1",
        "outputId": "3bc027a5-48f8-45ed-ad44-daf5dc9aea40"
      },
      "execution_count": null,
      "outputs": [
        {
          "output_type": "execute_result",
          "data": {
            "text/plain": [
              "1"
            ]
          },
          "metadata": {},
          "execution_count": 9
        }
      ]
    },
    {
      "cell_type": "code",
      "source": [
        "int('1')"
      ],
      "metadata": {
        "id": "ZnEqje444Dbr",
        "colab": {
          "base_uri": "https://localhost:8080/"
        },
        "outputId": "1e0c3089-15b6-45f2-fd3f-af48a9cf0ded"
      },
      "execution_count": null,
      "outputs": [
        {
          "output_type": "execute_result",
          "data": {
            "text/plain": [
              "1"
            ]
          },
          "metadata": {},
          "execution_count": 1
        }
      ]
    },
    {
      "cell_type": "code",
      "source": [
        "int('1 or 2 people')"
      ],
      "metadata": {
        "colab": {
          "base_uri": "https://localhost:8080/",
          "height": 169
        },
        "id": "kMFKwlep6n8R",
        "outputId": "8a636ec0-38d0-4c70-f553-f82bac465d56"
      },
      "execution_count": null,
      "outputs": [
        {
          "output_type": "error",
          "ename": "ValueError",
          "evalue": "ignored",
          "traceback": [
            "\u001b[0;31m---------------------------------------------------------------------------\u001b[0m",
            "\u001b[0;31mValueError\u001b[0m                                Traceback (most recent call last)",
            "\u001b[0;32m<ipython-input-2-cd59a23aeda5>\u001b[0m in \u001b[0;36m<module>\u001b[0;34m\u001b[0m\n\u001b[0;32m----> 1\u001b[0;31m \u001b[0mint\u001b[0m\u001b[0;34m(\u001b[0m\u001b[0;34m'1 or 2 people'\u001b[0m\u001b[0;34m)\u001b[0m\u001b[0;34m\u001b[0m\u001b[0;34m\u001b[0m\u001b[0m\n\u001b[0m",
            "\u001b[0;31mValueError\u001b[0m: invalid literal for int() with base 10: '1 or 2 people'"
          ]
        }
      ]
    },
    {
      "cell_type": "code",
      "source": [
        "float('1.2')"
      ],
      "metadata": {
        "colab": {
          "base_uri": "https://localhost:8080/"
        },
        "id": "bV-UT3jE6qjM",
        "outputId": "d435d8cc-e102-4f8f-ebc8-d50744fa0232"
      },
      "execution_count": null,
      "outputs": [
        {
          "output_type": "execute_result",
          "data": {
            "text/plain": [
              "1.2"
            ]
          },
          "metadata": {},
          "execution_count": 3
        }
      ]
    },
    {
      "cell_type": "code",
      "source": [
        "str(1)"
      ],
      "metadata": {
        "colab": {
          "base_uri": "https://localhost:8080/",
          "height": 35
        },
        "id": "ozQbW4au6t5i",
        "outputId": "f15ac55c-c95c-4625-8286-68017c500471"
      },
      "execution_count": null,
      "outputs": [
        {
          "output_type": "execute_result",
          "data": {
            "text/plain": [
              "'1'"
            ],
            "application/vnd.google.colaboratory.intrinsic+json": {
              "type": "string"
            }
          },
          "metadata": {},
          "execution_count": 4
        }
      ]
    },
    {
      "cell_type": "code",
      "source": [
        "str(1.2)"
      ],
      "metadata": {
        "colab": {
          "base_uri": "https://localhost:8080/",
          "height": 35
        },
        "id": "S_0lyO_B6v8g",
        "outputId": "1c97020c-13be-4079-b6b6-79095f7cddaf"
      },
      "execution_count": null,
      "outputs": [
        {
          "output_type": "execute_result",
          "data": {
            "text/plain": [
              "'1.2'"
            ],
            "application/vnd.google.colaboratory.intrinsic+json": {
              "type": "string"
            }
          },
          "metadata": {},
          "execution_count": 5
        }
      ]
    },
    {
      "cell_type": "code",
      "source": [
        "True"
      ],
      "metadata": {
        "colab": {
          "base_uri": "https://localhost:8080/"
        },
        "id": "f61BMP-x62Xt",
        "outputId": "6c32d9cb-8255-4a73-97e1-b675f3ea17c6"
      },
      "execution_count": null,
      "outputs": [
        {
          "output_type": "execute_result",
          "data": {
            "text/plain": [
              "True"
            ]
          },
          "metadata": {},
          "execution_count": 6
        }
      ]
    },
    {
      "cell_type": "code",
      "source": [
        "type(True)"
      ],
      "metadata": {
        "colab": {
          "base_uri": "https://localhost:8080/"
        },
        "id": "V-sDyjyV66JG",
        "outputId": "c552a997-2f69-45eb-ccf0-c548c3cd71d3"
      },
      "execution_count": null,
      "outputs": [
        {
          "output_type": "execute_result",
          "data": {
            "text/plain": [
              "bool"
            ]
          },
          "metadata": {},
          "execution_count": 7
        }
      ]
    },
    {
      "cell_type": "code",
      "source": [
        "int(True)"
      ],
      "metadata": {
        "colab": {
          "base_uri": "https://localhost:8080/"
        },
        "id": "LiJ8G0ja6_qw",
        "outputId": "ffa82404-c534-48e2-bffd-15650ac9309d"
      },
      "execution_count": null,
      "outputs": [
        {
          "output_type": "execute_result",
          "data": {
            "text/plain": [
              "1"
            ]
          },
          "metadata": {},
          "execution_count": 8
        }
      ]
    },
    {
      "cell_type": "code",
      "source": [
        "bool(1)"
      ],
      "metadata": {
        "colab": {
          "base_uri": "https://localhost:8080/"
        },
        "id": "eFGnyYJh7FJf",
        "outputId": "da619f6c-926a-4d35-ccd3-ae8b1ad3bfc2"
      },
      "execution_count": null,
      "outputs": [
        {
          "output_type": "execute_result",
          "data": {
            "text/plain": [
              "True"
            ]
          },
          "metadata": {},
          "execution_count": 9
        }
      ]
    },
    {
      "cell_type": "code",
      "source": [
        "float(True)"
      ],
      "metadata": {
        "colab": {
          "base_uri": "https://localhost:8080/"
        },
        "id": "7gsO0Ymp7J8R",
        "outputId": "e3182784-39cd-43b2-937f-364e41336e26"
      },
      "execution_count": null,
      "outputs": [
        {
          "output_type": "execute_result",
          "data": {
            "text/plain": [
              "1.0"
            ]
          },
          "metadata": {},
          "execution_count": 10
        }
      ]
    },
    {
      "cell_type": "code",
      "source": [
        "type( 6/ 2)"
      ],
      "metadata": {
        "colab": {
          "base_uri": "https://localhost:8080/"
        },
        "id": "e-SyXTzH7S0g",
        "outputId": "6712228e-13f7-4971-97a5-1bb5d60f0f9e"
      },
      "execution_count": null,
      "outputs": [
        {
          "output_type": "execute_result",
          "data": {
            "text/plain": [
              "float"
            ]
          },
          "metadata": {},
          "execution_count": 11
        }
      ]
    },
    {
      "cell_type": "code",
      "source": [
        "type(6//2)"
      ],
      "metadata": {
        "colab": {
          "base_uri": "https://localhost:8080/"
        },
        "id": "UAcIA9VR7XpW",
        "outputId": "f67844b1-c556-4138-bd45-73ae07545893"
      },
      "execution_count": null,
      "outputs": [
        {
          "output_type": "execute_result",
          "data": {
            "text/plain": [
              "int"
            ]
          },
          "metadata": {},
          "execution_count": 12
        }
      ]
    },
    {
      "cell_type": "code",
      "source": [
        "160//60"
      ],
      "metadata": {
        "colab": {
          "base_uri": "https://localhost:8080/"
        },
        "id": "2ZuRUSFk7irW",
        "outputId": "283ea4ac-8031-4fda-b5d7-e8161b2293f9"
      },
      "execution_count": null,
      "outputs": [
        {
          "output_type": "execute_result",
          "data": {
            "text/plain": [
              "2"
            ]
          },
          "metadata": {},
          "execution_count": 13
        }
      ]
    },
    {
      "cell_type": "code",
      "source": [
        "x = 3 + 2 * 2\n",
        "y = (3 + 2) * 2\n",
        "z = x + y\n",
        "z"
      ],
      "metadata": {
        "colab": {
          "base_uri": "https://localhost:8080/"
        },
        "id": "Jqmmq4HQ7xzB",
        "outputId": "1dce8c99-9d4a-4165-cec0-523688d5ba3c"
      },
      "execution_count": null,
      "outputs": [
        {
          "output_type": "execute_result",
          "data": {
            "text/plain": [
              "17"
            ]
          },
          "metadata": {},
          "execution_count": 19
        }
      ]
    },
    {
      "cell_type": "code",
      "source": [
        "#[SECTION:STRING OPERATIONS]"
      ],
      "metadata": {
        "id": "49hsCx_373xv"
      },
      "execution_count": null,
      "outputs": []
    },
    {
      "cell_type": "code",
      "source": [
        "name = \"Michale Jackson\"\n",
        "name[-1::-1]\n",
        "#Note accesing strings [initialIndex : finalIndex (not_included) : step]"
      ],
      "metadata": {
        "colab": {
          "base_uri": "https://localhost:8080/",
          "height": 35
        },
        "id": "UQq8dcliy9ik",
        "outputId": "e72ba2f5-9d9f-4f68-99b5-2fe7bd8919c0"
      },
      "execution_count": null,
      "outputs": [
        {
          "output_type": "execute_result",
          "data": {
            "text/plain": [
              "'noskcaJ elahciM'"
            ],
            "application/vnd.google.colaboratory.intrinsic+json": {
              "type": "string"
            }
          },
          "metadata": {},
          "execution_count": 28
        }
      ]
    },
    {
      "cell_type": "code",
      "source": [
        "# Escaping Sequences\n",
        "\n",
        "print(\"Michael \\nJackson\")"
      ],
      "metadata": {
        "colab": {
          "base_uri": "https://localhost:8080/"
        },
        "id": "yubCoq2xzhbU",
        "outputId": "5a4efa1f-83ce-487c-baea-6e55b3a2686a"
      },
      "execution_count": null,
      "outputs": [
        {
          "output_type": "stream",
          "name": "stdout",
          "text": [
            "Michael \n",
            "Jackson\n"
          ]
        }
      ]
    },
    {
      "cell_type": "code",
      "source": [
        "# Special functions on strings\n",
        "a = \"Michael Jackson\"\n",
        "print(a.upper())"
      ],
      "metadata": {
        "colab": {
          "base_uri": "https://localhost:8080/"
        },
        "id": "GGWRUp3Y0CwX",
        "outputId": "839017a4-f93f-4503-8dd7-a07916dc54dd"
      },
      "execution_count": null,
      "outputs": [
        {
          "output_type": "stream",
          "name": "stdout",
          "text": [
            "MICHAEL JACKSON\n"
          ]
        }
      ]
    },
    {
      "cell_type": "code",
      "source": [
        "# Quiz on Strings"
      ],
      "metadata": {
        "id": "ei2Qk6hF0wT2"
      },
      "execution_count": null,
      "outputs": []
    },
    {
      "cell_type": "code",
      "source": [
        "a = \"1\"\n",
        "b = \"2\"\n",
        "c = (a + b)\n",
        "c\n",
        "\n",
        "#Slicing 3 first elements\n",
        "d = \"ABCDEFG\"\n",
        "print(d[:3])\n",
        "\n",
        "#Print every second char\n",
        "e = 'clocrkr1e1c1t'\n",
        "print(e[::2])\n",
        "\n",
        "#Print a backslask\n",
        "print(\"\\\\\")\n",
        "\n",
        "#Convert f to uppercase\n",
        "f = \"You are wrong\"\n",
        "print(f.upper())\n",
        "\n",
        "#Find 'snow'\n",
        "g = \"Mary had a little lamb Little lamb, little lamb Mary had a little lamb \\\n",
        "Its fleece was white as snow And everywhere that Mary went Mary went, Mary went \\\n",
        "Everywhere that Mary went The lamb was sure to go\"\n",
        "print(g.find(\"snow\"))\n",
        "#Replace Mary with Bob\n",
        "print(g.replace('Mary','Bob'))"
      ],
      "metadata": {
        "colab": {
          "base_uri": "https://localhost:8080/"
        },
        "id": "jKgMe1I404Ih",
        "outputId": "7b0649c1-0725-44b4-b456-5d09a21b8a81"
      },
      "execution_count": 46,
      "outputs": [
        {
          "output_type": "stream",
          "name": "stdout",
          "text": [
            "ABC\n",
            "correct\n",
            "\\\n",
            "YOU ARE WRONG\n",
            "95\n",
            "Bob had a little lamb Little lamb, little lamb Bob had a little lamb Its fleece was white as snow And everywhere that Bob went Bob went, Bob went Everywhere that Bob went The lamb was sure to go\n"
          ]
        }
      ]
    },
    {
      "cell_type": "code",
      "source": [
        "''' MODULE 2: LISTS AND TUPLES '''\n",
        "\n",
        "'''\n",
        "LIST: [ELEMENTS] - Mutable\n",
        "TUPLE: (ELEMENTS) - Non Mutable\n",
        "'''\n",
        "\n",
        "# LAB ON TUPLES\n",
        "tuple1 = (\"disco\",10,1.2 )\n",
        "tuple2 = tuple1 + (\"hard rock\", 10)\n",
        "print(tuple2)\n",
        "# Tuples can be sliced just as Lists\n",
        "# To sort a Tuple use sorted()\n",
        "Ratings = (4,6,7,1,3,9,2)\n",
        "RSorted = sorted(Ratings)\n",
        "print(RSorted)\n",
        "# Nesting tuples\n",
        "NestedT =(1, 2, (\"pop\", \"rock\") ,(3,4),(\"disco\",(1,2)))\n",
        "print(NestedT)\n",
        "#Accesing Nested Tuples\n",
        "print(NestedT[2][1])\n",
        "\n",
        "# QUIZ ON TUPLES\n",
        "\n",
        "genres_tuple = (\"pop\", \"rock\", \"soul\", \"hard rock\", \"soft rock\", \"R&B\", \"progressive rock\", \"disco\") \n",
        "\n",
        "#Len of tuple\n",
        "len(genres_tuple)\n",
        "\n",
        "# Access element index 3\n",
        "print(genres_tuple[3])\n",
        "\n",
        "#Slice indexes 3,4,5\n",
        "print(genres_tuple[3:6])\n",
        "\n",
        "#First 2 elements\n",
        "print(genres_tuple[0:2])\n",
        "\n",
        "# Find disco\n",
        "print(genres_tuple.index('disco'))\n",
        "\n",
        "# Create sorted list \n",
        "C_tuple=(-5, 1, -3)\n",
        "Csorted = sorted(C_tuple)\n",
        "print(Csorted)\n",
        "\n",
        "# LAB ON LISTS\n",
        "\n",
        "# Extending and appending to a list\n",
        "L1 = [ \"Michael Jackson\", 10.2]\n",
        "L2 = [ \"Michael Jackson\", 10.2]\n",
        "La = ['pop', 10]\n",
        "\n",
        "L1.extend(La)\n",
        "print(L1)\n",
        "\n",
        "L2.append(La)\n",
        "print(L2)\n",
        "\n",
        "#Accesing a list\n",
        "print(L1[3])\n",
        "\n",
        "#String to list with delimiter\n",
        "withDelimiters = \"a,b,c,d,e,f,g\"\n",
        "print(withDelimiters)\n",
        "print(withDelimiters.split(','))\n",
        "\n",
        "# QUIZ ON LISTS\n",
        "\n",
        "#Create a list\n",
        "a_list = [1,'hello',[1,2,3],True]\n",
        "print(a_list)\n",
        "#Index 1 of list\n",
        "print(a_list[1])\n",
        "#Elements index 1,2,3\n",
        "print(a_list[1:4])\n",
        "# Concatenate the following lists A = [1, 'a'] and B = [2, 1, 'd']\n",
        "one = [1, 'a']\n",
        "two = [2,1,'d']\n",
        "three = one + two\n",
        "print(three)"
      ],
      "metadata": {
        "id": "dGGuBVZd08Fl",
        "colab": {
          "base_uri": "https://localhost:8080/"
        },
        "outputId": "6695650b-f1ab-41bc-88b0-7fb6ea10debc"
      },
      "execution_count": 73,
      "outputs": [
        {
          "output_type": "stream",
          "name": "stdout",
          "text": [
            "('disco', 10, 1.2, 'hard rock', 10)\n",
            "[1, 2, 3, 4, 6, 7, 9]\n",
            "(1, 2, ('pop', 'rock'), (3, 4), ('disco', (1, 2)))\n",
            "rock\n",
            "hard rock\n",
            "('hard rock', 'soft rock', 'R&B')\n",
            "('pop', 'rock')\n",
            "7\n",
            "[-5, -3, 1]\n",
            "['Michael Jackson', 10.2, 'pop', 10]\n",
            "['Michael Jackson', 10.2, ['pop', 10]]\n",
            "10\n",
            "a,b,c,d,e,f,g\n",
            "['a', 'b', 'c', 'd', 'e', 'f', 'g']\n",
            "[1, 'hello', [1, 2, 3], True]\n",
            "hello\n",
            "['hello', [1, 2, 3], True]\n",
            "[1, 'a', 2, 1, 'd']\n"
          ]
        }
      ]
    },
    {
      "cell_type": "code",
      "source": [],
      "metadata": {
        "id": "U834kqZJ8rpk"
      },
      "execution_count": null,
      "outputs": []
    }
  ]
}