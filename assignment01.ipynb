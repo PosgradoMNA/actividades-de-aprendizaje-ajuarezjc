{
  "nbformat": 4,
  "nbformat_minor": 0,
  "metadata": {
    "colab": {
      "name": "assignment01.ipynb",
      "provenance": [],
      "collapsed_sections": []
    },
    "kernelspec": {
      "name": "python3",
      "display_name": "Python 3"
    },
    "language_info": {
      "name": "python"
    }
  },
  "cells": [
    {
      "cell_type": "code",
      "execution_count": null,
      "metadata": {
        "id": "LzUSMM79NR9P",
        "outputId": "5b628e0a-7acc-40b7-8a7a-334cee31fe2f",
        "colab": {
          "base_uri": "https://localhost:8080/"
        }
      },
      "outputs": [
        {
          "output_type": "stream",
          "name": "stdout",
          "text": [
            "Hello, World!\n"
          ]
        }
      ],
      "source": [
        "print(\"Hello, World!\")"
      ]
    },
    {
      "cell_type": "code",
      "source": [
        "# Print the traditional hello world\n",
        "print(\"Hello, World!\")"
      ],
      "metadata": {
        "id": "mxM_WppZPMFx",
        "colab": {
          "base_uri": "https://localhost:8080/"
        },
        "outputId": "03f54592-fcbf-4923-bf18-c92dacbad0aa"
      },
      "execution_count": null,
      "outputs": [
        {
          "output_type": "stream",
          "name": "stdout",
          "text": [
            "Hello, World!\n"
          ]
        }
      ]
    },
    {
      "cell_type": "code",
      "source": [
        "type(12)\n",
        "type(2.14)\n",
        "type(\"Hello, Python 101\")\n",
        "type(12.0)"
      ],
      "metadata": {
        "colab": {
          "base_uri": "https://localhost:8080/"
        },
        "id": "M2WHPWMg26eO",
        "outputId": "6e5c010c-e3b1-46ce-c0c3-4cb5bf3d72f1"
      },
      "execution_count": null,
      "outputs": [
        {
          "output_type": "execute_result",
          "data": {
            "text/plain": [
              "float"
            ]
          },
          "metadata": {},
          "execution_count": 5
        }
      ]
    },
    {
      "cell_type": "code",
      "source": [
        "type(2)"
      ],
      "metadata": {
        "colab": {
          "base_uri": "https://localhost:8080/"
        },
        "id": "Lg3e7L8c3ezr",
        "outputId": "2cadee98-16a0-426a-aa49-d1797b8121ae"
      },
      "execution_count": null,
      "outputs": [
        {
          "output_type": "execute_result",
          "data": {
            "text/plain": [
              "int"
            ]
          },
          "metadata": {},
          "execution_count": 6
        }
      ]
    },
    {
      "cell_type": "code",
      "source": [
        "float(2)"
      ],
      "metadata": {
        "colab": {
          "base_uri": "https://localhost:8080/"
        },
        "id": "86hXydVW3hJc",
        "outputId": "de0e2c52-1806-4015-f6fd-2c3a524b63a1"
      },
      "execution_count": null,
      "outputs": [
        {
          "output_type": "execute_result",
          "data": {
            "text/plain": [
              "2.0"
            ]
          },
          "metadata": {},
          "execution_count": 7
        }
      ]
    },
    {
      "cell_type": "code",
      "source": [
        "type(float(2))"
      ],
      "metadata": {
        "colab": {
          "base_uri": "https://localhost:8080/"
        },
        "id": "Fk9pRrGJ3pFv",
        "outputId": "99729d12-a6a8-40ee-db4a-437714d4880a"
      },
      "execution_count": null,
      "outputs": [
        {
          "output_type": "execute_result",
          "data": {
            "text/plain": [
              "float"
            ]
          },
          "metadata": {},
          "execution_count": 8
        }
      ]
    },
    {
      "cell_type": "code",
      "source": [
        "int(1.1)"
      ],
      "metadata": {
        "colab": {
          "base_uri": "https://localhost:8080/"
        },
        "id": "n4KNB8MH4BP1",
        "outputId": "3bc027a5-48f8-45ed-ad44-daf5dc9aea40"
      },
      "execution_count": null,
      "outputs": [
        {
          "output_type": "execute_result",
          "data": {
            "text/plain": [
              "1"
            ]
          },
          "metadata": {},
          "execution_count": 9
        }
      ]
    },
    {
      "cell_type": "code",
      "source": [
        "int('1')"
      ],
      "metadata": {
        "id": "ZnEqje444Dbr",
        "colab": {
          "base_uri": "https://localhost:8080/"
        },
        "outputId": "1e0c3089-15b6-45f2-fd3f-af48a9cf0ded"
      },
      "execution_count": null,
      "outputs": [
        {
          "output_type": "execute_result",
          "data": {
            "text/plain": [
              "1"
            ]
          },
          "metadata": {},
          "execution_count": 1
        }
      ]
    },
    {
      "cell_type": "code",
      "source": [
        "int('1 or 2 people')"
      ],
      "metadata": {
        "colab": {
          "base_uri": "https://localhost:8080/",
          "height": 169
        },
        "id": "kMFKwlep6n8R",
        "outputId": "8a636ec0-38d0-4c70-f553-f82bac465d56"
      },
      "execution_count": null,
      "outputs": [
        {
          "output_type": "error",
          "ename": "ValueError",
          "evalue": "ignored",
          "traceback": [
            "\u001b[0;31m---------------------------------------------------------------------------\u001b[0m",
            "\u001b[0;31mValueError\u001b[0m                                Traceback (most recent call last)",
            "\u001b[0;32m<ipython-input-2-cd59a23aeda5>\u001b[0m in \u001b[0;36m<module>\u001b[0;34m\u001b[0m\n\u001b[0;32m----> 1\u001b[0;31m \u001b[0mint\u001b[0m\u001b[0;34m(\u001b[0m\u001b[0;34m'1 or 2 people'\u001b[0m\u001b[0;34m)\u001b[0m\u001b[0;34m\u001b[0m\u001b[0;34m\u001b[0m\u001b[0m\n\u001b[0m",
            "\u001b[0;31mValueError\u001b[0m: invalid literal for int() with base 10: '1 or 2 people'"
          ]
        }
      ]
    },
    {
      "cell_type": "code",
      "source": [
        "float('1.2')"
      ],
      "metadata": {
        "colab": {
          "base_uri": "https://localhost:8080/"
        },
        "id": "bV-UT3jE6qjM",
        "outputId": "d435d8cc-e102-4f8f-ebc8-d50744fa0232"
      },
      "execution_count": null,
      "outputs": [
        {
          "output_type": "execute_result",
          "data": {
            "text/plain": [
              "1.2"
            ]
          },
          "metadata": {},
          "execution_count": 3
        }
      ]
    },
    {
      "cell_type": "code",
      "source": [
        "str(1)"
      ],
      "metadata": {
        "colab": {
          "base_uri": "https://localhost:8080/",
          "height": 35
        },
        "id": "ozQbW4au6t5i",
        "outputId": "f15ac55c-c95c-4625-8286-68017c500471"
      },
      "execution_count": null,
      "outputs": [
        {
          "output_type": "execute_result",
          "data": {
            "text/plain": [
              "'1'"
            ],
            "application/vnd.google.colaboratory.intrinsic+json": {
              "type": "string"
            }
          },
          "metadata": {},
          "execution_count": 4
        }
      ]
    },
    {
      "cell_type": "code",
      "source": [
        "str(1.2)"
      ],
      "metadata": {
        "colab": {
          "base_uri": "https://localhost:8080/",
          "height": 35
        },
        "id": "S_0lyO_B6v8g",
        "outputId": "1c97020c-13be-4079-b6b6-79095f7cddaf"
      },
      "execution_count": null,
      "outputs": [
        {
          "output_type": "execute_result",
          "data": {
            "text/plain": [
              "'1.2'"
            ],
            "application/vnd.google.colaboratory.intrinsic+json": {
              "type": "string"
            }
          },
          "metadata": {},
          "execution_count": 5
        }
      ]
    },
    {
      "cell_type": "code",
      "source": [
        "True"
      ],
      "metadata": {
        "colab": {
          "base_uri": "https://localhost:8080/"
        },
        "id": "f61BMP-x62Xt",
        "outputId": "6c32d9cb-8255-4a73-97e1-b675f3ea17c6"
      },
      "execution_count": null,
      "outputs": [
        {
          "output_type": "execute_result",
          "data": {
            "text/plain": [
              "True"
            ]
          },
          "metadata": {},
          "execution_count": 6
        }
      ]
    },
    {
      "cell_type": "code",
      "source": [
        "type(True)"
      ],
      "metadata": {
        "colab": {
          "base_uri": "https://localhost:8080/"
        },
        "id": "V-sDyjyV66JG",
        "outputId": "c552a997-2f69-45eb-ccf0-c548c3cd71d3"
      },
      "execution_count": null,
      "outputs": [
        {
          "output_type": "execute_result",
          "data": {
            "text/plain": [
              "bool"
            ]
          },
          "metadata": {},
          "execution_count": 7
        }
      ]
    },
    {
      "cell_type": "code",
      "source": [
        "int(True)"
      ],
      "metadata": {
        "colab": {
          "base_uri": "https://localhost:8080/"
        },
        "id": "LiJ8G0ja6_qw",
        "outputId": "ffa82404-c534-48e2-bffd-15650ac9309d"
      },
      "execution_count": null,
      "outputs": [
        {
          "output_type": "execute_result",
          "data": {
            "text/plain": [
              "1"
            ]
          },
          "metadata": {},
          "execution_count": 8
        }
      ]
    },
    {
      "cell_type": "code",
      "source": [
        "bool(1)"
      ],
      "metadata": {
        "colab": {
          "base_uri": "https://localhost:8080/"
        },
        "id": "eFGnyYJh7FJf",
        "outputId": "da619f6c-926a-4d35-ccd3-ae8b1ad3bfc2"
      },
      "execution_count": null,
      "outputs": [
        {
          "output_type": "execute_result",
          "data": {
            "text/plain": [
              "True"
            ]
          },
          "metadata": {},
          "execution_count": 9
        }
      ]
    },
    {
      "cell_type": "code",
      "source": [
        "float(True)"
      ],
      "metadata": {
        "colab": {
          "base_uri": "https://localhost:8080/"
        },
        "id": "7gsO0Ymp7J8R",
        "outputId": "e3182784-39cd-43b2-937f-364e41336e26"
      },
      "execution_count": null,
      "outputs": [
        {
          "output_type": "execute_result",
          "data": {
            "text/plain": [
              "1.0"
            ]
          },
          "metadata": {},
          "execution_count": 10
        }
      ]
    },
    {
      "cell_type": "code",
      "source": [
        "type( 6/ 2)"
      ],
      "metadata": {
        "colab": {
          "base_uri": "https://localhost:8080/"
        },
        "id": "e-SyXTzH7S0g",
        "outputId": "6712228e-13f7-4971-97a5-1bb5d60f0f9e"
      },
      "execution_count": null,
      "outputs": [
        {
          "output_type": "execute_result",
          "data": {
            "text/plain": [
              "float"
            ]
          },
          "metadata": {},
          "execution_count": 11
        }
      ]
    },
    {
      "cell_type": "code",
      "source": [
        "type(6//2)"
      ],
      "metadata": {
        "colab": {
          "base_uri": "https://localhost:8080/"
        },
        "id": "UAcIA9VR7XpW",
        "outputId": "f67844b1-c556-4138-bd45-73ae07545893"
      },
      "execution_count": null,
      "outputs": [
        {
          "output_type": "execute_result",
          "data": {
            "text/plain": [
              "int"
            ]
          },
          "metadata": {},
          "execution_count": 12
        }
      ]
    },
    {
      "cell_type": "code",
      "source": [
        "160//60"
      ],
      "metadata": {
        "colab": {
          "base_uri": "https://localhost:8080/"
        },
        "id": "2ZuRUSFk7irW",
        "outputId": "283ea4ac-8031-4fda-b5d7-e8161b2293f9"
      },
      "execution_count": null,
      "outputs": [
        {
          "output_type": "execute_result",
          "data": {
            "text/plain": [
              "2"
            ]
          },
          "metadata": {},
          "execution_count": 13
        }
      ]
    },
    {
      "cell_type": "code",
      "source": [
        "x = 3 + 2 * 2\n",
        "y = (3 + 2) * 2\n",
        "z = x + y\n",
        "z"
      ],
      "metadata": {
        "colab": {
          "base_uri": "https://localhost:8080/"
        },
        "id": "Jqmmq4HQ7xzB",
        "outputId": "1dce8c99-9d4a-4165-cec0-523688d5ba3c"
      },
      "execution_count": null,
      "outputs": [
        {
          "output_type": "execute_result",
          "data": {
            "text/plain": [
              "17"
            ]
          },
          "metadata": {},
          "execution_count": 19
        }
      ]
    },
    {
      "cell_type": "code",
      "source": [
        "#[SECTION:STRING OPERATIONS]"
      ],
      "metadata": {
        "id": "49hsCx_373xv"
      },
      "execution_count": null,
      "outputs": []
    },
    {
      "cell_type": "code",
      "source": [
        "name = \"Michale Jackson\"\n",
        "name[-1::-1]\n",
        "#Note accesing strings [initialIndex : finalIndex (not_included) : step]"
      ],
      "metadata": {
        "colab": {
          "base_uri": "https://localhost:8080/",
          "height": 35
        },
        "id": "UQq8dcliy9ik",
        "outputId": "e72ba2f5-9d9f-4f68-99b5-2fe7bd8919c0"
      },
      "execution_count": null,
      "outputs": [
        {
          "output_type": "execute_result",
          "data": {
            "text/plain": [
              "'noskcaJ elahciM'"
            ],
            "application/vnd.google.colaboratory.intrinsic+json": {
              "type": "string"
            }
          },
          "metadata": {},
          "execution_count": 28
        }
      ]
    },
    {
      "cell_type": "code",
      "source": [
        "# Escaping Sequences\n",
        "\n",
        "print(\"Michael \\nJackson\")"
      ],
      "metadata": {
        "colab": {
          "base_uri": "https://localhost:8080/"
        },
        "id": "yubCoq2xzhbU",
        "outputId": "5a4efa1f-83ce-487c-baea-6e55b3a2686a"
      },
      "execution_count": null,
      "outputs": [
        {
          "output_type": "stream",
          "name": "stdout",
          "text": [
            "Michael \n",
            "Jackson\n"
          ]
        }
      ]
    },
    {
      "cell_type": "code",
      "source": [
        "# Special functions on strings\n",
        "a = \"Michael Jackson\"\n",
        "print(a.upper())"
      ],
      "metadata": {
        "colab": {
          "base_uri": "https://localhost:8080/"
        },
        "id": "GGWRUp3Y0CwX",
        "outputId": "839017a4-f93f-4503-8dd7-a07916dc54dd"
      },
      "execution_count": null,
      "outputs": [
        {
          "output_type": "stream",
          "name": "stdout",
          "text": [
            "MICHAEL JACKSON\n"
          ]
        }
      ]
    },
    {
      "cell_type": "code",
      "source": [
        "# Quiz on Strings"
      ],
      "metadata": {
        "id": "ei2Qk6hF0wT2"
      },
      "execution_count": null,
      "outputs": []
    },
    {
      "cell_type": "code",
      "source": [
        "a = \"1\"\n",
        "b = \"2\"\n",
        "c = (a + b)\n",
        "c\n",
        "\n",
        "#Slicing 3 first elements\n",
        "d = \"ABCDEFG\"\n",
        "print(d[:3])\n",
        "\n",
        "#Print every second char\n",
        "e = 'clocrkr1e1c1t'\n",
        "print(e[::2])\n",
        "\n",
        "#Print a backslask\n",
        "print(\"\\\\\")\n",
        "\n",
        "#Convert f to uppercase\n",
        "f = \"You are wrong\"\n",
        "print(f.upper())\n",
        "\n",
        "#Find 'snow'\n",
        "g = \"Mary had a little lamb Little lamb, little lamb Mary had a little lamb \\\n",
        "Its fleece was white as snow And everywhere that Mary went Mary went, Mary went \\\n",
        "Everywhere that Mary went The lamb was sure to go\"\n",
        "print(g.find(\"snow\"))\n",
        "#Replace Mary with Bob\n",
        "print(g.replace('Mary','Bob'))"
      ],
      "metadata": {
        "colab": {
          "base_uri": "https://localhost:8080/"
        },
        "id": "jKgMe1I404Ih",
        "outputId": "7b0649c1-0725-44b4-b456-5d09a21b8a81"
      },
      "execution_count": 46,
      "outputs": [
        {
          "output_type": "stream",
          "name": "stdout",
          "text": [
            "ABC\n",
            "correct\n",
            "\\\n",
            "YOU ARE WRONG\n",
            "95\n",
            "Bob had a little lamb Little lamb, little lamb Bob had a little lamb Its fleece was white as snow And everywhere that Bob went Bob went, Bob went Everywhere that Bob went The lamb was sure to go\n"
          ]
        }
      ]
    },
    {
      "cell_type": "code",
      "source": [
        "''' MODULE 2: LISTS AND TUPLES, SETS AND DICTIONARIES '''\n",
        "\n",
        "'''\n",
        "LIST: [ELEMENTS] - Mutable\n",
        "TUPLE: (ELEMENTS) - Non Mutable\n",
        "SET: {ELEMENTS} - Can't have duplicated elements\n",
        "'''\n",
        "\n",
        "# LAB ON TUPLES\n",
        "print(\"LAB ON TUPLES\")\n",
        "tuple1 = (\"disco\",10,1.2 )\n",
        "tuple2 = tuple1 + (\"hard rock\", 10)\n",
        "print(tuple2)\n",
        "# Tuples can be sliced just as Lists\n",
        "# To sort a Tuple use sorted()\n",
        "Ratings = (4,6,7,1,3,9,2)\n",
        "RSorted = sorted(Ratings)\n",
        "print(RSorted)\n",
        "# Nesting tuples\n",
        "NestedT =(1, 2, (\"pop\", \"rock\") ,(3,4),(\"disco\",(1,2)))\n",
        "print(NestedT)\n",
        "#Accesing Nested Tuples\n",
        "print(NestedT[2][1])\n",
        "\n",
        "# QUIZ ON TUPLES\n",
        "print(\"QUIZ ON TUPLES\")\n",
        "genres_tuple = (\"pop\", \"rock\", \"soul\", \"hard rock\", \"soft rock\", \"R&B\", \"progressive rock\", \"disco\") \n",
        "\n",
        "#Len of tuple\n",
        "len(genres_tuple)\n",
        "\n",
        "# Access element index 3\n",
        "print(genres_tuple[3])\n",
        "\n",
        "#Slice indexes 3,4,5\n",
        "print(genres_tuple[3:6])\n",
        "\n",
        "#First 2 elements\n",
        "print(genres_tuple[0:2])\n",
        "\n",
        "# Find disco\n",
        "print(genres_tuple.index('disco'))\n",
        "\n",
        "# Create sorted list \n",
        "C_tuple=(-5, 1, -3)\n",
        "Csorted = sorted(C_tuple)\n",
        "print(Csorted)\n",
        "\n",
        "# LAB ON LISTS\n",
        "print(\"LAB ON LISTS\")\n",
        "# Extending and appending to a list\n",
        "L1 = [ \"Michael Jackson\", 10.2]\n",
        "L2 = [ \"Michael Jackson\", 10.2]\n",
        "La = ['pop', 10]\n",
        "\n",
        "L1.extend(La)\n",
        "print(L1)\n",
        "\n",
        "L2.append(La)\n",
        "print(L2)\n",
        "\n",
        "#Accesing a list\n",
        "print(L1[3])\n",
        "\n",
        "#String to list with delimiter\n",
        "withDelimiters = \"a,b,c,d,e,f,g\"\n",
        "print(withDelimiters)\n",
        "print(withDelimiters.split(','))\n",
        "\n",
        "# QUIZ ON LISTS\n",
        "print(\"QUIZ ON LISTS\")\n",
        "#Create a list\n",
        "a_list = [1,'hello',[1,2,3],True]\n",
        "print(a_list)\n",
        "#Index 1 of list\n",
        "print(a_list[1])\n",
        "#Elements index 1,2,3\n",
        "print(a_list[1:4])\n",
        "# Concatenate the following lists A = [1, 'a'] and B = [2, 1, 'd']\n",
        "one = [1, 'a']\n",
        "two = [2,1,'d']\n",
        "three = one + two\n",
        "print(three)\n",
        "\n",
        "# LAB ON SETS\n",
        "print(\"LAB ON SETS\")\n",
        "#Creating a set from list\n",
        "album_list = [ \"Michael Jackson\", \"Thriller\", 1982, \"00:42:19\", \\\n",
        "              \"Pop, Rock, R&B\", 46.0, 65, \"30-Nov-82\", None, 10.0]\n",
        "album_set = set(album_list)             \n",
        "print(album_set)\n",
        "\n",
        "#Creating list from set\n",
        "music_genres = set([\"pop\", \"pop\", \"rock\", \"folk rock\", \"hard rock\", \"soul\", \\\n",
        "                    \"progressive rock\", \"soft rock\", \"R&B\", \"disco\"])\n",
        "print(music_genres)\n",
        "\n",
        "#Operating on sets\n",
        "A = set([\"Thriller\", \"Back in Black\", \"AC/DC\"])\n",
        "#Adding\n",
        "A.add('NSYNC')\n",
        "print(A)\n",
        "#Removing\n",
        "A.remove(\"NSYNC\")\n",
        "print(A)\n",
        "#Checking if elements is in set\n",
        "print(\"AC/DC\" in A)\n",
        "\n",
        "#Set logic operations\n",
        "album_set1 = set([\"Thriller\", 'AC/DC', 'Back in Black'])\n",
        "album_set2 = set([ \"AC/DC\", \"Back in Black\", \"The Dark Side of the Moon\"])\n",
        "#Intersecting sets\n",
        "album_set3 = album_set1 & album_set2\n",
        "print(album_set3)\n",
        "#Finding differences, excluding intersection\n",
        "print(album_set1.difference(album_set2)  )\n",
        "#Finding the intersection\n",
        "print(album_set1.intersection(album_set2))\n",
        "#Union of 2 sets\n",
        "print(album_set1.union(album_set2))\n",
        "#Checking if set is subset (all the elements are also part of the set 1)\n",
        "print(set({\"Back in Black\", \"AC/DC\"}).issubset(album_set1) )\n",
        "#Checking if set is super set (all elements of second set are part of current set)\n",
        "print(album_set1.issuperset({\"Back in Black\", \"AC/DC\"}))\n",
        "\n",
        "# QUIZ ON SETS\n",
        "print(\"QUIZ ON SETS\")\n",
        "# Convert the list ['rap','house','electronic music', 'rap'] to a set:\n",
        "l1 = ['rap','house','electronic music', 'rap']\n",
        "print(set(l1))\n",
        "\n",
        "# Consider the list A = [1, 2, 2, 1] and set B = set([1, 2, 2, 1]), does sum(A) == sum(B)?\n",
        "A = [1, 2, 2, 1]\n",
        "B = {1, 2, 2, 1}\n",
        "print(sum(A) == sum(B))\n",
        "\n",
        "#Union of sets\n",
        "album_set1 = set([\"Thriller\", 'AC/DC', 'Back in Black'])\n",
        "album_set2 = set([ \"AC/DC\", \"Back in Black\", \"The Dark Side of the Moon\"])\n",
        "set3 = album_set1.union(album_set2)\n",
        "print(set3)\n",
        "\n",
        "#Find out if album_set1 is a subset of album_set3:\n",
        "print(set3.issuperset(album_set1))\n",
        "#Can also be done with\n",
        "print(album_set1.issubset(set3))\n",
        "\n",
        "# LAB ON DICTIONARIES\n",
        "print(\"LAB ON DICTIONARIES\")\n",
        "\n",
        "# Create the dictionary\n",
        "Dict = {\"key1\": 1, \"key2\": \"2\", \"key3\": [3, 3, 3], \"key4\": (4, 4, 4), ('key5'): 5, (0, 1): 6}\n",
        "print(Dict)\n",
        "# Access to the value by the key\n",
        "Dict[\"key1\"]\n",
        "\n",
        "release_year_dict = {\"Thriller\": \"1982\", \"Back in Black\": \"1980\", \\\n",
        "                    \"The Dark Side of the Moon\": \"1973\", \"The Bodyguard\": \"1992\", \\\n",
        "                    \"Bat Out of Hell\": \"1977\", \"Their Greatest Hits (1971-1975)\": \"1976\", \\\n",
        "                    \"Saturday Night Fever\": \"1977\", \"Rumours\": \"1977\"}\n",
        "# Get all the keys in dictionary\n",
        "print(release_year_dict.keys())\n",
        "# Get all the values in dictionary\n",
        "print(release_year_dict.values())\n",
        "# Append value with key into dictionary\n",
        "release_year_dict['Graduation'] = '2007'\n",
        "print(release_year_dict)\n",
        "# Delete entries by key\n",
        "del(release_year_dict['Thriller'])\n",
        "del(release_year_dict['Graduation'])\n",
        "print(release_year_dict)\n",
        "# Verify the key is in the dictionary\n",
        "print('The Bodyguard' in release_year_dict)\n",
        "\n",
        "# QUIZ ON DICTIONARIES\n",
        "print(\"QUIZ ON DICTIONARIES\")\n",
        "#Sample dict\n",
        "soundtrack_dic = {\"The Bodyguard\":\"1992\", \"Saturday Night Fever\":\"1977\"}\n",
        "#a) In the dictionary soundtrack_dic what are the keys ?\n",
        "print(soundtrack_dic.keys())\n",
        "#b) In the dictionary soundtrack_dic what are the values ?\n",
        "print(soundtrack_dic.values())\n",
        "\n",
        "#The Albums Back in Black, The Bodyguard and Thriller have the following music recording sales in millions 50, 50 and 65 respectively:\n",
        "#a) Create a dictionary album_sales_dict where the keys are the album name and the sales in millions are the values.\n",
        "album_sales_dict = {\"BiB\":50, \"The Bodyguard\":50, \"Thriller\":65}\n",
        "print(album_sales_dict)\n",
        "#b) Use the dictionary to find the total sales of Thriller:\n",
        "print(\"Total sales of Thriller\",album_sales_dict[\"Thriller\"], \"millions\")\n",
        "#c) Find the names of the albums from the dictionary using the method keys()\n",
        "print(album_sales_dict.keys())\n",
        "#d) Find the values of the recording sales from the dictionary using the method values\n",
        "print(album_sales_dict.values())"
      ],
      "metadata": {
        "id": "dGGuBVZd08Fl",
        "colab": {
          "base_uri": "https://localhost:8080/"
        },
        "outputId": "c11ccaf8-c1e9-42dc-b45a-cdbd885cda55"
      },
      "execution_count": 1,
      "outputs": [
        {
          "output_type": "stream",
          "name": "stdout",
          "text": [
            "LAB ON TUPLES\n",
            "('disco', 10, 1.2, 'hard rock', 10)\n",
            "[1, 2, 3, 4, 6, 7, 9]\n",
            "(1, 2, ('pop', 'rock'), (3, 4), ('disco', (1, 2)))\n",
            "rock\n",
            "QUIZ ON TUPLES\n",
            "hard rock\n",
            "('hard rock', 'soft rock', 'R&B')\n",
            "('pop', 'rock')\n",
            "7\n",
            "[-5, -3, 1]\n",
            "LAB ON LISTS\n",
            "['Michael Jackson', 10.2, 'pop', 10]\n",
            "['Michael Jackson', 10.2, ['pop', 10]]\n",
            "10\n",
            "a,b,c,d,e,f,g\n",
            "['a', 'b', 'c', 'd', 'e', 'f', 'g']\n",
            "QUIZ ON LISTS\n",
            "[1, 'hello', [1, 2, 3], True]\n",
            "hello\n",
            "['hello', [1, 2, 3], True]\n",
            "[1, 'a', 2, 1, 'd']\n",
            "LAB ON SETS\n",
            "{None, 65, '30-Nov-82', 'Michael Jackson', '00:42:19', 10.0, 'Thriller', 46.0, 'Pop, Rock, R&B', 1982}\n",
            "{'hard rock', 'disco', 'pop', 'R&B', 'soul', 'folk rock', 'progressive rock', 'rock', 'soft rock'}\n",
            "{'Back in Black', 'NSYNC', 'AC/DC', 'Thriller'}\n",
            "{'Back in Black', 'AC/DC', 'Thriller'}\n",
            "True\n",
            "{'Back in Black', 'AC/DC'}\n",
            "{'Thriller'}\n",
            "{'Back in Black', 'AC/DC'}\n",
            "{'AC/DC', 'The Dark Side of the Moon', 'Back in Black', 'Thriller'}\n",
            "True\n",
            "True\n",
            "QUIZ ON SETS\n",
            "{'house', 'rap', 'electronic music'}\n",
            "False\n",
            "{'AC/DC', 'The Dark Side of the Moon', 'Back in Black', 'Thriller'}\n",
            "True\n",
            "True\n",
            "LAB ON DICTIONARIES\n",
            "{'key1': 1, 'key2': '2', 'key3': [3, 3, 3], 'key4': (4, 4, 4), 'key5': 5, (0, 1): 6}\n",
            "dict_keys(['Thriller', 'Back in Black', 'The Dark Side of the Moon', 'The Bodyguard', 'Bat Out of Hell', 'Their Greatest Hits (1971-1975)', 'Saturday Night Fever', 'Rumours'])\n",
            "dict_values(['1982', '1980', '1973', '1992', '1977', '1976', '1977', '1977'])\n",
            "{'Thriller': '1982', 'Back in Black': '1980', 'The Dark Side of the Moon': '1973', 'The Bodyguard': '1992', 'Bat Out of Hell': '1977', 'Their Greatest Hits (1971-1975)': '1976', 'Saturday Night Fever': '1977', 'Rumours': '1977', 'Graduation': '2007'}\n",
            "{'Back in Black': '1980', 'The Dark Side of the Moon': '1973', 'The Bodyguard': '1992', 'Bat Out of Hell': '1977', 'Their Greatest Hits (1971-1975)': '1976', 'Saturday Night Fever': '1977', 'Rumours': '1977'}\n",
            "True\n",
            "QUIZ ON DICTIONARIES\n",
            "dict_keys(['The Bodyguard', 'Saturday Night Fever'])\n",
            "dict_values(['1992', '1977'])\n",
            "{'BiB': 50, 'The Bodyguard': 50, 'Thriller': 65}\n",
            "Total sales of Thriller 65 millions\n",
            "dict_keys(['BiB', 'The Bodyguard', 'Thriller'])\n",
            "dict_values([50, 50, 65])\n"
          ]
        }
      ]
    },
    {
      "cell_type": "code",
      "source": [
        "'''\n",
        "MODULE 3\n",
        " \n",
        "CONDITIONS AND BRANCHING\n",
        "LOOPS\n",
        "'''\n",
        "\n",
        "'''\n",
        "Operations:\n",
        "equal: ==\n",
        "not equal: !=\n",
        "greater than: >\n",
        "less than: <\n",
        "greater than or equal to: >=\n",
        "less than or equal to: <=\n",
        "\n",
        "Basic branching structure:\n",
        "if (conditions) :\n",
        "  statements()\n",
        "elif (2nd_condition):\n",
        "  more_statements()\n",
        "else:\n",
        "  final_statements()\n",
        "\n",
        "'''\n",
        "\n",
        "# QUIZ AND TESTING ON CONDITIONS\n",
        "print(\"QUIZ AND TESTING ON CONDITIONS\")\n",
        "# Write an if statement to determine if an album had a rating greater than 8. \n",
        "# Test it using the rating for the album “Back in Black” that had a rating of 8.5. \n",
        "# If the statement is true print \"This album is Amazing!\"\n",
        "rating = 8.5\n",
        "if rating > 8:\n",
        "  print(\"This albun is Amazing!\")\n",
        "  \n",
        "\n",
        "# Write an if-else statement that performs the following. \n",
        "# If the rating is larger then eight print “this album is amazing”. \n",
        "# If the rating is less than or equal to 8 print “this album is ok”.\n",
        "if rating > 8:\n",
        "  print(\"this album is amazing\")\n",
        "else:\n",
        "  print(\"this album is ok\")\n",
        "\n",
        " # Write an if statement to determine if an album came out before 1980 or in the years: 1991 or 1993. \n",
        " # If the condition is true print out the year the album came out.\n",
        "year = 1993\n",
        "if (year < 1980) or (year == 1991) or (year == 1993):\n",
        "   print(\"Album came on\", year)\n",
        "\n",
        "# LOOPS\n",
        "'''\n",
        "NOTES ON FOR LOOP\n",
        "for (index) in range():\n",
        "  statements()\n",
        "\n",
        "Using range()\n",
        "range(total_number_of_loops)\n",
        "range(start, end) END IS NON-INCLUSIVE\n",
        "\n",
        "NOTES ON WHILE LOOP\n",
        "while (condition_that_is_true):\n",
        "  statements()\n",
        "'''\n",
        "\n",
        "# QUIZ AND TESTING ON LOOPS\n",
        "print(\"QUIZ AND TESTING ON LOOPS\")\n",
        "\n",
        "# Write a for loop the prints out all the element between -5 and 5 using the range function.\n",
        "for i in range(-5,6):\n",
        "  print(i, end = \" \")\n",
        "\n",
        "# Print the elements of the following list: Genres=[ 'rock', 'R&B', 'Soundtrack', 'R&B', 'soul', 'pop'] \n",
        "# Make sure you follow Python conventions.\n",
        "print()\n",
        "Genres=[ 'rock', 'R&B', 'Soundtrack', 'R&B', 'soul', 'pop'] \n",
        "for item in Genres:\n",
        "  print(item, end = \" \")\n",
        "\n",
        "# Write a for loop that prints out the following list: squares=['red', 'yellow', 'green', 'purple', 'blue']\n",
        "print()\n",
        "squares=['red', 'yellow', 'green', 'purple', 'blue']\n",
        "for item in squares:\n",
        "  print(item, end= \" \")\n",
        "\n",
        "# Write a while loop to display the values of the Rating of an album playlist stored in the list PlayListRatings. \n",
        "# If the score is less than 6, exit the loop. \n",
        "# The list PlayListRatings is given by: PlayListRatings = [10, 9.5, 10, 8, 7.5, 5, 10, 10]\n",
        "print()\n",
        "PlayListRatings = [10, 9.5, 10, 8, 7.5, 5, 10, 10]\n",
        "index = 0\n",
        "rating = PlayListRatings[index]\n",
        "while (rating > 6 and index < len(PlayListRatings)):\n",
        "  print(rating, end = \",\")\n",
        "  index += 1\n",
        "  rating = PlayListRatings[index]\n",
        "\n",
        "# Write a while loop to copy the strings 'orange' of the list squares to the list new_squares. \n",
        "# Stop and exit the loop if the value on the list is not 'orange'\n",
        "print()\n",
        "squares = ['orange', 'orange', 'purple', 'blue ', 'orange']\n",
        "new_squares = []\n",
        "index = 0\n",
        "square = squares[index]\n",
        "while (square == 'orange' and index<len(squares)):\n",
        "  new_squares.append(squares[index])\n",
        "  index += 1\n",
        "  square = squares[index]\n",
        "print(new_squares)"
      ],
      "metadata": {
        "colab": {
          "base_uri": "https://localhost:8080/"
        },
        "id": "U834kqZJ8rpk",
        "outputId": "0b433d1b-2e2a-485b-a288-ea381511e206"
      },
      "execution_count": 27,
      "outputs": [
        {
          "output_type": "stream",
          "name": "stdout",
          "text": [
            "QUIZ AND TESTING ON CONDITIONS\n",
            "This albun is Amazing!\n",
            "this album is amazing\n",
            "Album came on 1993\n",
            "QUIZ AND TESTING ON LOOPS\n",
            "-5 -4 -3 -2 -1 0 1 2 3 4 5 \n",
            "rock R&B Soundtrack R&B soul pop \n",
            "red yellow green purple blue \n",
            "10,9.5,10,8,7.5,\n",
            "['orange', 'orange']\n"
          ]
        }
      ]
    },
    {
      "cell_type": "code",
      "source": [
        "'''\n",
        "MODULE 3 (Continuation)\n",
        " \n",
        "FUNCTIONS\n",
        "'''\n",
        "\n",
        "'''\n",
        "NOTES ON FUNCTIONS\n",
        "def func_name(arguments_in):\n",
        "  statements()\n",
        "  #If function returns something use return(arguments_out)\n",
        "  return(vars_out)\n",
        "\n",
        "Calling a function:\n",
        "var_if_args_out = func_name(arguments_if_needed)\n",
        "\n",
        "Variable Scopes\n",
        "global_var (out of function) #Accessible to all script\n",
        "def function():\n",
        "  local_var = X #Accessible only inside this function\n",
        "  return (local_var)\n",
        "\n",
        "Default Arguments\n",
        "Can be used when a default value can be used instead of expecting one from input\n",
        "def function_name(arg1, arg2, defaultArg = default_value):\n",
        "  statements()\n",
        "  return()\n",
        "'''\n",
        "\n",
        "# QUIZ AND TESTING ON FUNCTIONS\n",
        "\n",
        "# Come up with a function that divides the first input by the second input:\n",
        "print()\n",
        "def divider(a, b):\n",
        "  return (a / b)\n",
        "print(divider(10,2))\n",
        "\n",
        "# Use the function con for the following question.\n",
        "def con(a, b):\n",
        "    return(a + b)\n",
        "# Can the con function we defined before be used to add two integers or strings?\n",
        "#Yes\n",
        "print(con(2,2))\n",
        "print(con(\"2\",\"2\"))\n",
        "\n",
        "# Can the con function we defined before be used to concatenate lists or tuples?\n",
        "#Yes\n",
        "print(con([2,1],[3,4]))\n",
        "print(con((2,1),(3,4)))\n"
      ],
      "metadata": {
        "colab": {
          "base_uri": "https://localhost:8080/"
        },
        "id": "frN-2_ce_tid",
        "outputId": "ef4f63b0-b837-4498-c8d3-2ff9efc9f983"
      },
      "execution_count": 30,
      "outputs": [
        {
          "output_type": "stream",
          "name": "stdout",
          "text": [
            "\n",
            "5.0\n",
            "4\n",
            "22\n",
            "[2, 1, 3, 4]\n",
            "(2, 1, 3, 4)\n"
          ]
        }
      ]
    },
    {
      "cell_type": "code",
      "source": [
        "'''\n",
        "MODULE 3 (Continuation)\n",
        "\n",
        "CLASSES\n",
        "'''\n",
        "\n",
        "'''\n",
        "NOTES ON CLASSES\n",
        "\n",
        "Creating a class\n",
        "\n",
        "#Always use self as first argument when creating a class\n",
        "class class_name(self, rest_of_arguments_in):\n",
        "  #In Class Variables\n",
        "  self.var1 = X\n",
        "  self.var2 = Y\n",
        "\n",
        "  #Create init. Use SELF as 1st argument. \n",
        "  #Next arguments are used to initialize class variables\n",
        "  def __init__(self,var1, var2):\n",
        "    #Assign input_vars to class_vars\n",
        "    self.var1 = var1\n",
        "    self.var2 = var2\n",
        "  \n",
        "  #Next functions are class methods\n",
        "  #Always add SELF as 1st arguments\n",
        "  def method1(self,arg1):\n",
        "    statements()\n",
        "    return()\n",
        "\n",
        "  # Creating an object of class\n",
        "  #Input arguments required in __init__\n",
        "  object = class_name(args_in)\n",
        "\n",
        "  #Using methods and variables of class object\n",
        "  object.method_to_use()\n",
        "  object.var_to_use\n",
        "\n",
        "\n",
        "'''\n",
        "\n",
        "# LAB AND TESTING ON CLASSES\n",
        "\n",
        "'''\n",
        "You have been recruited by your friend, a linguistics enthusiast, to create a utility tool that can perform analysis on a given piece of text. \n",
        "Complete the class 'analysedText' with the following methods -\n",
        "\n",
        "Constructor (__init__) - This method should take the argument text, make it lower case, and remove all punctuation. \n",
        "Assume only the following punctuation is used: period (.), exclamation mark (!), comma (,) and question mark (?). \n",
        "Assign this newly formatted text to a new attribute called fmtText.\n",
        "\n",
        "freqAll - This method should create and return dictionary of all unique words in the text, along with the number of times they occur in the text. \n",
        "Each key in the dictionary should be the unique word appearing in the text and the associated value should be the number of times it occurs in the text. \n",
        "Create this dictionary from the fmtText attribute.\n",
        "\n",
        "freqOf - This method should take a word as an argument and return the number of occurrences of that word in fmtText.\n",
        "The skeleton code has been given to you. Docstrings can be ignored for the purpose of the exercise.\n",
        "\n",
        "Hint: Some useful functions are replace(), lower(), split(), count()\n",
        "'''\n",
        "\n",
        "class analysedText():\n",
        "\n",
        "    def __init__ (self, text):\n",
        "        # TODO: Remove the punctuation from <text> and make it lower case.\n",
        "        formattedText = text.replace('.','').replace(',','').replace('!','').replace('?','')\n",
        "        # TODO: Assign the formatted text to a new attribute called \"fmtText\"\n",
        "        self.fmtText = formattedText.lower()\n",
        "        pass \n",
        "    \n",
        "    def freqAll(self):    \n",
        "\n",
        "        # TODO: Split the text into a list of words  \n",
        "        words = self.fmtText.split(' ')\n",
        "        \n",
        "        # TODO: Create a dictionary with the unique words in the text as keys\n",
        "        # and the number of times they occur in the text as values\n",
        "        frequency = {}\n",
        "        wordsNoDuplicates = set(words)\n",
        "        for word in wordsNoDuplicates:\n",
        "            frequency[word] = words.count(word)\n",
        "        \n",
        "        return frequency\n",
        "    \n",
        "    def freqOf(self, word):\n",
        "\n",
        "        # TODO: return the number of occurrences of <word> in <fmtText>\n",
        "        wordFrequency = self.freqAll()\n",
        "        \n",
        "        if word in wordFrequency:\n",
        "            return wordFrequency[word]\n",
        "        else:\n",
        "            return 0\n",
        "\n",
        "sampleMap = {'eirmod': 1,'sed': 1, 'amet': 2, 'diam': 5, 'consetetur': 1, 'labore': 1, 'tempor': 1, 'dolor': 1, 'magna': 2, 'et': 3, 'nonumy': 1, 'ipsum': 1, 'lorem': 2}\n",
        "def testMsg(passed):\n",
        "    if passed:\n",
        "       return 'Test Passed'\n",
        "    else :\n",
        "       return 'Test Failed'\n",
        "\n",
        "try:\n",
        "    samplePassage = analysedText(\"Lorem ipsum dolor! diam amet, consetetur Lorem magna. sed diam nonumy eirmod tempor. diam et labore? et diam magna. et diam amet.\")\n",
        "    print(testMsg(samplePassage.fmtText == \"lorem ipsum dolor diam amet consetetur lorem magna sed diam nonumy eirmod tempor diam et labore et diam magna et diam amet\"))\n",
        "except:\n",
        "    print(\"Error detected. Recheck your function \" )\n",
        "print(\"freqAll: \")\n",
        "try:\n",
        "    wordMap = samplePassage.freqAll()\n",
        "    print(testMsg(wordMap==sampleMap))\n",
        "except:\n",
        "    print(\"Error detected. Recheck your function \" )\n",
        "print(\"freqOf: \")\n",
        "try:\n",
        "    passed = True\n",
        "    for word in sampleMap:\n",
        "        if samplePassage.freqOf(word) != sampleMap[word]:\n",
        "            passed = False\n",
        "            break\n",
        "    print(testMsg(passed))\n",
        "    \n",
        "except:\n",
        "    print(\"Error detected. Recheck your function  \" )\n",
        "\n"
      ],
      "metadata": {
        "colab": {
          "base_uri": "https://localhost:8080/"
        },
        "id": "vXaxtNoWHmjx",
        "outputId": "2c96bc94-37a2-45bc-c67b-44d6fd70def8"
      },
      "execution_count": 42,
      "outputs": [
        {
          "output_type": "stream",
          "name": "stdout",
          "text": [
            "Test Passed\n",
            "freqAll: \n",
            "Test Passed\n",
            "freqOf: \n",
            "Test Passed\n"
          ]
        }
      ]
    },
    {
      "cell_type": "code",
      "source": [],
      "metadata": {
        "id": "FsYbdvClMGG7"
      },
      "execution_count": null,
      "outputs": []
    }
  ]
}