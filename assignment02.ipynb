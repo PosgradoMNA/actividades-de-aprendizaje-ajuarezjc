{
  "nbformat": 4,
  "nbformat_minor": 0,
  "metadata": {
    "colab": {
      "provenance": [],
      "collapsed_sections": [],
      "authorship_tag": "ABX9TyNeBCdOIunKMNYFrfe3zX+n",
      "include_colab_link": true
    },
    "kernelspec": {
      "name": "python3",
      "display_name": "Python 3"
    },
    "language_info": {
      "name": "python"
    }
  },
  "cells": [
    {
      "cell_type": "markdown",
      "metadata": {
        "id": "view-in-github",
        "colab_type": "text"
      },
      "source": [
        "<a href=\"https://colab.research.google.com/github/PosgradoMNA/actividades-de-aprendizaje-ajuarezjc/blob/main/assignment02.ipynb\" target=\"_parent\"><img src=\"https://colab.research.google.com/assets/colab-badge.svg\" alt=\"Open In Colab\"/></a>"
      ]
    },
    {
      "cell_type": "code",
      "execution_count": null,
      "metadata": {
        "id": "nmrlmhV87LRu"
      },
      "outputs": [],
      "source": []
    },
    {
      "cell_type": "markdown",
      "source": [
        "# Module 4: Working with data in Python\n",
        "\n",
        "Alejandro Juárez Corona\n",
        "A01168444"
      ],
      "metadata": {
        "id": "HMf_9h4-7MH1"
      }
    },
    {
      "cell_type": "code",
      "source": [
        "'''\n",
        "NOTES ON OPENING FILES\n",
        "\n",
        "To open File\n",
        "var_file = open('file_name','open_mode')\n",
        "\n",
        "file_name should be full path to file, with extension\n",
        "\n",
        "Available Modes:\n",
        "read_mode = 'r'\n",
        "write_mode = 'w'\n",
        "\n",
        "var_name is File Object, NOT ACTUAL DATA FROM FILE}\n",
        "\n",
        "To Read File\n",
        "content = var_file.read(char_count)\n",
        "If we specify char_count we read as many characters as we want.\n",
        "In next call of .read(char_count) we read the following # of characters in the file\n",
        "\n",
        "To read a complete line\n",
        "var_file.readline(char_count)\n",
        "IF we specify char_count we read as many characters, but not past the line\n",
        "\n",
        "To read all lines\n",
        "lines_list = var_file.readlines()\n",
        "lines_list is now a list with every line of the file\n",
        "\n",
        "Now we can print it and use it\n",
        "print(content)\n",
        "\n",
        "To Close File\n",
        "MUST BE DONE WHEN WE FINISH USING THE FILE\n",
        "var_file.close()\n",
        "\n",
        "To better handle exceptions, open files using _with_. \n",
        "Autocloses file\n",
        "We have to use the file and contents within an indent block\n",
        "\n",
        "with open(file_path, mode) as file:\n",
        "    FileContent = file.read()\n",
        "    print(FileContent)\n",
        "\n",
        "OUTSIDE INDENT BLOCK WE CAN'T USE THE FILE ANYMORE\n",
        "\n",
        "'''"
      ],
      "metadata": {
        "id": "maVPDURqAaky"
      },
      "execution_count": null,
      "outputs": []
    },
    {
      "cell_type": "code",
      "source": [
        "'''\n",
        "NOTES ON WRITING TO FILES\n",
        "\n",
        "with open(file_path, 'w') as file:\n",
        "    file.write(\"This is line A\\n\")\n",
        "    file.write(\"This is line B\\n\")\n",
        "\n",
        "Mode is 'w' as we are writing to the file\n",
        "\n",
        ".write puts a line to the file. \n",
        "To write multiple lines we can use a List of strings and For Cycle\n",
        "NOTE: .write overwrites all contents in file\n",
        "\n",
        "Lines = [\"This is line A\\n\", \"This is line B\\n\", \"This is line C\\n\"]\n",
        "with open('Example2.txt', 'w') as writefile:\n",
        "    for line in Lines:\n",
        "        print(line)\n",
        "        writefile.write(line)\n",
        "\n",
        "To append to a file we have to use append mode \n",
        "with open('Example2.txt', 'a') as testwritefile:\n",
        "    testwritefile.write(\"This is line C\\n\")\n",
        "    testwritefile.write(\"This is line D\\n\")\n",
        "    testwritefile.write(\"This is line E\\n\")\n",
        "\n",
        "More on file opening modes:\n",
        "r+ : Reading and writing. Cannot truncate the file.\n",
        "w+ : Writing and reading. Truncates the file.\n",
        "a+ : Appending and Reading. Creates a new file, if none exists.\n",
        "\n",
        "On the cursor in the file:\n",
        "When we open the file with 'r' or 'w' the cursor is set to beginning. Then we read or write and the cursor moves along.\n",
        "We can work the cursor with:\n",
        ".tell() - Tells position of cursor\n",
        ".seek(offset, from) - Moves cursor\n",
        "offset = Int - Offset to move the cursor, relative to 'from'\n",
        "from = Int - 0=Beginning, 1=Relative to current position, 2=End\n",
        "\n",
        "EXTRA NOTES ON W+ and R+\n",
        "Both can open and write to file.\n",
        "W+ overwrites the file, deleting pre existing contents\n",
        "Better to work with R+ and A+ if we don't want to lose data\n",
        "\n",
        ".trucate() closes and deletes the contents after the position of the cursor.\n",
        "\n",
        "NOTES ON COPY A FILE\n",
        "\n",
        "We basically read one file, read each line and write each line to another\n",
        "with open('Example2.txt','r') as readfile:\n",
        "    with open('Example3.txt','w') as writefile:\n",
        "          for line in readfile:\n",
        "                writefile.write(line)\n",
        "\n",
        "'''"
      ],
      "metadata": {
        "colab": {
          "base_uri": "https://localhost:8080/",
          "height": 267
        },
        "id": "DBsVHoX6D-Ew",
        "outputId": "44281af4-3eec-402d-d0bd-9d4d2612cc18"
      },
      "execution_count": 1,
      "outputs": [
        {
          "output_type": "execute_result",
          "data": {
            "text/plain": [
              "'\\nNOTES ON WRITING TO FILES\\n\\nwith open(file_path, \\'w\\') as file:\\n    file.write(\"This is line A\\n\")\\n    file.write(\"This is line B\\n\")\\n\\nMode is \\'w\\' as we are writing to the file\\n\\n.write puts a line to the file. \\nTo write multiple lines we can use a List of strings and For Cycle\\nNOTE: .write overwrites all contents in file\\n\\nLines = [\"This is line A\\n\", \"This is line B\\n\", \"This is line C\\n\"]\\nwith open(\\'Example2.txt\\', \\'w\\') as writefile:\\n    for line in Lines:\\n        print(line)\\n        writefile.write(line)\\n\\nTo append to a file we have to use append mode \\nwith open(\\'Example2.txt\\', \\'a\\') as testwritefile:\\n    testwritefile.write(\"This is line C\\n\")\\n    testwritefile.write(\"This is line D\\n\")\\n    testwritefile.write(\"This is line E\\n\")\\n\\nMore on file opening modes:\\nr+ : Reading and writing. Cannot truncate the file.\\nw+ : Writing and reading. Truncates the file.\\na+ : Appending and Reading. Creates a new file, if none exists.\\n\\nOn the cursor in the file:\\nWhen we open the file with \\'r\\' or \\'w\\' the cursor is set to beginning. Then we read or write and the cursor moves along\\n\\n'"
            ],
            "application/vnd.google.colaboratory.intrinsic+json": {
              "type": "string"
            }
          },
          "metadata": {},
          "execution_count": 1
        }
      ]
    },
    {
      "cell_type": "code",
      "source": [
        "from IPython.core.interactiveshell import InteractiveShellABC\n",
        "'''\n",
        "LAB ON READING, WRITING AND COPYING FILES\n",
        "\n",
        "Your local university's Raptors fan club maintains a register of its active members on a .txt document. \n",
        "Every month they update the file by removing the members who are not active. \n",
        "You have been tasked with automating this with your Python skills.\n",
        "Given the file currentMem, Remove each member with a 'no' in their Active column. \n",
        "Keep track of each of the removed members and append them to the exMem file. \n",
        "Make sure that the format of the original files in preserved. \n",
        "(Hint: Do this by reading/writing whole lines and ensuring the header remains )\n",
        "Run the code block below prior to starting the exercise. \n",
        "The skeleton code has been provided for you. Edit only the cleanFiles function.\n",
        "'''\n",
        "\n",
        "#Run this prior to starting the exercise\n",
        "from random import randint as rnd\n",
        "\n",
        "memReg = 'members.txt'\n",
        "exReg = 'inactive.txt'\n",
        "fee =('yes','no')\n",
        "\n",
        "def genFiles(current,old):\n",
        "    with open(current,'w+') as writefile: \n",
        "        writefile.write('Membership No  Date Joined  Active  \\n')\n",
        "        data = \"{:^13}  {:<11}  {:<6}\\n\"\n",
        "\n",
        "        for rowno in range(20):\n",
        "            date = str(rnd(2015,2020))+ '-' + str(rnd(1,12))+'-'+str(rnd(1,25))\n",
        "            writefile.write(data.format(rnd(10000,99999),date,fee[rnd(0,1)]))\n",
        "\n",
        "\n",
        "    with open(old,'w+') as writefile: \n",
        "        writefile.write('Membership No  Date Joined  Active  \\n')\n",
        "        data = \"{:^13}  {:<11}  {:<6}\\n\"\n",
        "        for rowno in range(3):\n",
        "            date = str(rnd(2015,2020))+ '-' + str(rnd(1,12))+'-'+str(rnd(1,25))\n",
        "            writefile.write(data.format(rnd(10000,99999),date,fee[1]))\n",
        "\n",
        "\n",
        "genFiles(memReg,exReg)\n",
        "\n",
        "'''\n",
        "The two arguments for this function are the files:\n",
        "    - currentMem: File containing list of current members\n",
        "    - exMem: File containing list of old members\n",
        "    \n",
        "    This function should remove all rows from currentMem containing 'no' \n",
        "    in the 'Active' column and appends them to exMem.\n",
        "    '''\n",
        "def cleanFiles(currentMem, exMem):\n",
        "    CurrentMembers = []\n",
        "    with open(currentMem,'r+') as members:\n",
        "        with open(exMem,'a+') as inactive:\n",
        "            #Make sure we are at the start of the file\n",
        "            members.seek(0)\n",
        "            CurrentMembers = members.readlines()\n",
        "            #Get header and save for later\n",
        "            head = CurrentMembers.pop(0)\n",
        "\n",
        "            #Cycle members and check if NO is at the line\n",
        "            inactives = []\n",
        "            for eachLine in CurrentMembers:\n",
        "                if 'no' in eachLine:\n",
        "                  inactives.append(eachLine)\n",
        "            \n",
        "            #Write members file\n",
        "            members.seek(0)\n",
        "            members.write(head)\n",
        "            for member in CurrentMembers:\n",
        "                if (member in inactives):\n",
        "                    inactive.write(member)\n",
        "                else:\n",
        "                    members.write(member)    \n",
        "            #Close file   \n",
        "            members.truncate()\n",
        "            inactive.truncate()\n",
        "\n",
        "    #pass # Remove this line when done implementation\n",
        "\n",
        "\n",
        "# The code below is to help you view the files.\n",
        "# Do not modify this code for this exercise.\n",
        "memReg = 'members.txt'\n",
        "exReg = 'inactive.txt'\n",
        "cleanFiles(memReg,exReg)\n",
        "\n",
        "\n",
        "headers = \"Membership No  Date Joined  Active  \\n\"\n",
        "with open(memReg,'r') as readFile:\n",
        "    print(\"Active Members: \\n\\n\")\n",
        "    print(readFile.read())\n",
        "    \n",
        "with open(exReg,'r') as readFile:\n",
        "    print(\"Inactive Members: \\n\\n\")\n",
        "    print(readFile.read())"
      ],
      "metadata": {
        "colab": {
          "base_uri": "https://localhost:8080/"
        },
        "id": "-GmNyA-nnPRE",
        "outputId": "1f6df633-2587-482c-b0a2-7c3f55ecee57"
      },
      "execution_count": 21,
      "outputs": [
        {
          "output_type": "stream",
          "name": "stdout",
          "text": [
            "Active Members: \n",
            "\n",
            "\n",
            "Membership No  Date Joined  Active  \n",
            "    77223      2015-8-10    yes   \n",
            "    62684      2017-3-1     yes   \n",
            "    74724      2015-6-15    yes   \n",
            "    85272      2019-8-2     yes   \n",
            "    59741      2020-9-17    yes   \n",
            "    60571      2017-8-25    yes   \n",
            "    90105      2016-11-21   yes   \n",
            "    12598      2018-3-3     yes   \n",
            "    23215      2015-5-21    yes   \n",
            "    99448      2019-3-18    yes   \n",
            "    38412      2018-6-8     yes   \n",
            "    11418      2015-4-14    yes   \n",
            "\n",
            "Inactive Members: \n",
            "\n",
            "\n",
            "Membership No  Date Joined  Active  \n",
            "    90386      2018-12-22   no    \n",
            "    28107      2015-4-25    no    \n",
            "    42067      2020-10-4    no    \n",
            "    71805      2018-12-3    no    \n",
            "    73056      2016-7-6     no    \n",
            "    56368      2019-7-21    no    \n",
            "    80328      2018-2-14    no    \n",
            "    86309      2019-2-10    no    \n",
            "    28743      2017-3-6     no    \n",
            "    34459      2015-6-3     no    \n",
            "    59229      2019-3-23    no    \n",
            "\n"
          ]
        }
      ]
    },
    {
      "cell_type": "code",
      "source": [
        "def testMsg(passed):\n",
        "    if passed:\n",
        "       return 'Test Passed'\n",
        "    else :\n",
        "       return 'Test Failed'\n",
        "\n",
        "testWrite = \"testWrite.txt\"\n",
        "testAppend = \"testAppend.txt\" \n",
        "passed = True\n",
        "\n",
        "genFiles(testWrite,testAppend)\n",
        "\n",
        "with open(testWrite,'r') as file:\n",
        "    ogWrite = file.readlines()\n",
        "\n",
        "with open(testAppend,'r') as file:\n",
        "    ogAppend = file.readlines()\n",
        "\n",
        "try:\n",
        "    cleanFiles(testWrite,testAppend)\n",
        "except:\n",
        "    print('Error')\n",
        "\n",
        "with open(testWrite,'r') as file:\n",
        "    clWrite = file.readlines()\n",
        "\n",
        "with open(testAppend,'r') as file:\n",
        "    clAppend = file.readlines()\n",
        "        \n",
        "# checking if total no of rows is same, including headers\n",
        "\n",
        "if (len(ogWrite) + len(ogAppend) != len(clWrite) + len(clAppend)):\n",
        "    print(\"The number of rows do not add up. Make sure your final files have the same header and format.\")\n",
        "    passed = False\n",
        "    \n",
        "for line in clWrite:\n",
        "    if  'no' in line:\n",
        "        passed = False\n",
        "        print(\"Inactive members in file\")\n",
        "        break\n",
        "    else:\n",
        "        if line not in ogWrite:\n",
        "            print(\"Data in file does not match original file\")\n",
        "            passed = False\n",
        "print (\"{}\".format(testMsg(passed)))\n"
      ],
      "metadata": {
        "colab": {
          "base_uri": "https://localhost:8080/"
        },
        "id": "39tCjnJVzolG",
        "outputId": "ae3b85d5-f888-4ff2-81d3-2a87f54aa7bf"
      },
      "execution_count": 25,
      "outputs": [
        {
          "output_type": "stream",
          "name": "stdout",
          "text": [
            "Test Passed\n"
          ]
        }
      ]
    }
  ]
}