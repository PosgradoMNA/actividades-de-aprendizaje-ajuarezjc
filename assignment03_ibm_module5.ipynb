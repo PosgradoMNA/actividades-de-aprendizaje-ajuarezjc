{
  "nbformat": 4,
  "nbformat_minor": 0,
  "metadata": {
    "colab": {
      "provenance": [],
      "collapsed_sections": [],
      "authorship_tag": "ABX9TyPObXBQWmQzY5h5GcINGs0F",
      "include_colab_link": true
    },
    "kernelspec": {
      "name": "python3",
      "display_name": "Python 3"
    },
    "language_info": {
      "name": "python"
    }
  },
  "cells": [
    {
      "cell_type": "markdown",
      "metadata": {
        "id": "view-in-github",
        "colab_type": "text"
      },
      "source": [
        "<a href=\"https://colab.research.google.com/github/PosgradoMNA/actividades-de-aprendizaje-ajuarezjc/blob/main/assignment03_ibm_module5.ipynb\" target=\"_parent\"><img src=\"https://colab.research.google.com/assets/colab-badge.svg\" alt=\"Open In Colab\"/></a>"
      ]
    },
    {
      "cell_type": "markdown",
      "source": [
        "Alejandro Juárez Corona\n",
        "A01168444\n",
        "\n",
        "Module 5: Python for DS Course"
      ],
      "metadata": {
        "id": "vJ8_2xg7pwEQ"
      }
    },
    {
      "cell_type": "code",
      "source": [
        "'''\n",
        "01 - NOTES ON NUMPY 1D ARRAYS\n",
        "'''\n",
        "import numpy as np\n",
        "\n",
        "#Creating a numpy array\n",
        "pA = [0,1,2,3,4,5,6,7]\n",
        "a = np.array(pA)\n",
        "#We can access elements as in normal Python list\n",
        "print(a[2])\n",
        "#Verifying is a numpy array\n",
        "print(type(a))\n",
        "#Check the type of values inside the array\n",
        "a.dtype\n",
        "#We can assign as list\n",
        "a[0] = 5\n",
        "print(a)\n",
        "#We can slice as usual list\n",
        "print(a[1:3])\n",
        "\n",
        "#Get the size of an array\n",
        "print(a.size)\n",
        "#Get the ndim of an array\n",
        "print(a.ndim)\n",
        "#Get the shape of array tupe(rows, columns)\n",
        "print(a.shape)\n",
        "\n",
        "#We can apply statistical functions\n",
        "mean = a.mean() #Mean\n",
        "print(mean)\n",
        "std_dv = a.std() #Standard Deviation\n",
        "print(std_dv)\n",
        "max = a.max() #Max value\n",
        "print(max)\n",
        "min = a.min() #Min value\n",
        "print(min)\n",
        "\n",
        "#Doing operations with arrays\n",
        "one = np.array([1,2,3,4,5])\n",
        "two = np.array([6,7,8,9,10])\n",
        "\n",
        "#Adding\n",
        "one_two = np.add(one,two)\n",
        "print(one_two)\n",
        "#Substracting\n",
        "one_minus_two = np.subtract(two,one)\n",
        "print(one_minus_two)\n",
        "#Multiply\n",
        "one_times_two = np.multiply(one,two)\n",
        "print(one_times_two)\n",
        "#Divide\n",
        "two_divided_one = np.divide(two,one)\n",
        "print(two_divided_one)\n",
        "\n",
        "#Dot product\n",
        "# [1,2]•[3,4] = [(1*3)+(2*4)] = [(3)+(8)] = 11\n",
        "dot = np.dot([1,2],[3,4])\n",
        "print(dot)\n",
        "\n",
        "#Adding a constant to all elements of array\n",
        "base = np.array([0,1,2,3])\n",
        "c = 10\n",
        "print(base + c)\n",
        "\n",
        "#Applying math functions to all members\n",
        "x = np.array([0, np.pi/2 , np.pi])\n",
        "y = np.sin(x)\n",
        "print(y)\n",
        "\n",
        "#Create numpy array with start, stop and elements evenly between start and stop\n",
        "evenly = np.linspace(-5,5,10)\n",
        "print(evenly)"
      ],
      "metadata": {
        "colab": {
          "base_uri": "https://localhost:8080/"
        },
        "id": "HDfF-lDEp5jP",
        "outputId": "4c38a333-deb7-44e8-f4a0-2d8f01bd3eaf"
      },
      "execution_count": 24,
      "outputs": [
        {
          "output_type": "stream",
          "name": "stdout",
          "text": [
            "2\n",
            "<class 'numpy.ndarray'>\n",
            "[5 1 2 3 4 5 6 7]\n",
            "[1 2]\n",
            "8\n",
            "1\n",
            "(8,)\n",
            "4.125\n",
            "1.899835519196333\n",
            "7\n",
            "1\n",
            "[ 7  9 11 13 15]\n",
            "[5 5 5 5 5]\n",
            "[ 6 14 24 36 50]\n",
            "[6.         3.5        2.66666667 2.25       2.        ]\n",
            "11\n",
            "[10 11 12 13]\n",
            "[0.0000000e+00 1.0000000e+00 1.2246468e-16]\n",
            "[-5.         -3.88888889 -2.77777778 -1.66666667 -0.55555556  0.55555556\n",
            "  1.66666667  2.77777778  3.88888889  5.        ]\n"
          ]
        }
      ]
    },
    {
      "cell_type": "code",
      "source": [
        "'''\n",
        "QUIZ ON 1D NUMPY ARRAYS\n",
        "'''\n",
        "#Implement the following vector subtraction in numpy: u-v\n",
        "u = np.array([1, 0])\n",
        "v = np.array([0, 1])\n",
        "print(np.subtract(u,v))\n",
        "\n",
        "#Multiply the numpy array z with -2:\n",
        "z = np.array([2, 4])\n",
        "print(np.multiply(z,-2))\n",
        "\n",
        "#Consider the list [1, 2, 3, 4, 5] and [1, 0, 1, 0, 1]. Cast both lists to a numpy array then multiply them together:\n",
        "l1 = np.array([1, 2, 3, 4, 5])\n",
        "l2 = np.array([1, 0, 1, 0, 1])\n",
        "print(np.multiply(l1,l2))\n",
        "\n",
        "# Import the libraries\n",
        "import time \n",
        "import sys\n",
        "import numpy as np \n",
        "\n",
        "import matplotlib.pyplot as plt\n",
        "%matplotlib inline  \n",
        "\n",
        "def Plotvec2(a,b):\n",
        "    ax = plt.axes()# to generate the full window axes\n",
        "    ax.arrow(0, 0, *a, head_width=0.05, color ='r', head_length=0.1)#Add an arrow to the  a Axes with arrow head width 0.05, color red and arrow head length 0.1\n",
        "    plt.text(*(a + 0.1), 'a')\n",
        "    ax.arrow(0, 0, *b, head_width=0.05, color ='b', head_length=0.1)#Add an arrow to the  b Axes with arrow head width 0.05, color blue and arrow head length 0.1\n",
        "    plt.text(*(b + 0.1), 'b')\n",
        "    plt.ylim(-2, 2)#set the ylim to bottom(-2), top(2)\n",
        "    plt.xlim(-2, 2)#set the xlim to left(-2), right(2)\n",
        "\n",
        "#Convert the list [-1, 1] and [1, 1] to numpy arrays a and b. \n",
        "#Then, plot the arrays as vectors using the fuction Plotvec2 and find their dot product:\n",
        "a = np.array([-1, 1])\n",
        "b = np.array([1, 1])\n",
        "Plotvec2(a, b)\n",
        "print(np.dot(a,b))\n",
        "\n",
        "#Why are the results of the dot product for [-1, 1] and [1, 1] and \n",
        "#the dot product for [1, 0] and [0, 1] zero, but not zero for the dot product for [1, 1] and [0, 1]?\n",
        "#They are cancelling vectors\n",
        "\n",
        "#Convert the list [1, 2, 3] and [8, 9, 10] to numpy arrays arr1 and arr2. \n",
        "#Then perform Addition , Subtraction , Multiplication , Division and Dot Operation on the arr1 and arr2.\n",
        "arr1 = np.array([1, 2, 3])\n",
        "arr2 = np.array([8, 9, 10])\n",
        "print(\"Math operations on arr1 arr2\")\n",
        "print(np.add(arr1, arr2))\n",
        "print(np.subtract(arr1, arr2))\n",
        "print(np.multiply(arr1, arr2))\n",
        "print(np.divide(arr1, arr2))\n",
        "print(np.dot(arr1, arr2))\n",
        "print(\"End of operations on arr1 arr2\")\n",
        "\n",
        "#Convert the list [1, 2, 3, 4, 5] and [6, 7, 8, 9, 10] to numpy arrays arr1 and arr2. \n",
        "#Then find the even and odd numbers from arr1 and arr2.\n",
        "arr1 = np.array([1, 2, 3, 4, 5])\n",
        "arr2 = np.array([6, 7, 8, 9, 10])\n",
        "all = arr1 + arr2\n",
        "print(\"Even\",arr1[1::2],arr2[1::2])\n",
        "print(\"Odd\",arr1[0::2],arr2[0::2])"
      ],
      "metadata": {
        "colab": {
          "base_uri": "https://localhost:8080/",
          "height": 501
        },
        "id": "HkwhB1ATMK7e",
        "outputId": "20dd050e-4bea-46c9-a7df-5af67481441c"
      },
      "execution_count": 40,
      "outputs": [
        {
          "output_type": "stream",
          "name": "stdout",
          "text": [
            "[ 1 -1]\n",
            "[-4 -8]\n",
            "[1 0 3 0 5]\n",
            "0\n",
            "Math operations on arr1 arr2\n",
            "[ 9 11 13]\n",
            "[-7 -7 -7]\n",
            "[ 8 18 30]\n",
            "[0.125      0.22222222 0.3       ]\n",
            "56\n",
            "End of operations on arr1 arr2\n",
            "Even [2 4] [7 9]\n",
            "Odd [1 3 5] [ 6  8 10]\n"
          ]
        },
        {
          "output_type": "display_data",
          "data": {
            "text/plain": [
              "<Figure size 432x288 with 1 Axes>"
            ],
            "image/png": "[encoded data removed]"
          },
          "metadata": {
            "needs_background": "light"
          }
        }
      ]
    },
    {
      "cell_type": "code",
      "source": [
        "'''\n",
        "02 - NOTES ON NUMPY 2D ARRAYS\n",
        "'''\n",
        "#Base is nested lists inside a list\n",
        "a = [[11, 12, 13], [21, 22, 23], [31, 32, 33]]\n",
        "A = np.array(a)\n",
        "#Visualizing the 2D array\n",
        "print(A)\n",
        "#Getting the shape of np array\n",
        "print(\"Shape of 2D\",A.shape)\n",
        "print(\"Dimensions of array\",A.ndim)\n",
        "#Total size of array\n",
        "print(\"Total Size of array\",A.size)\n",
        "\n",
        "#Accesing elements in array\n",
        "# ARRAY[index_row, index_col] - Indexes start from 0\n",
        "# Or: ARRAY[index_row][index_col]\n",
        "print(\"Second row, Third Col\",A[1,2])\n",
        "print(\"Second row, Third Col\",A[1][2])\n",
        "\n",
        "#Accesing slices of array\n",
        "# ARRAY[slice_row,slice_col]\n",
        "# ARRAY[slice_row][slice_col]\n",
        "print(\"First row, first&second col\",A[0,0:2])\n",
        "print(\"First row, first&second col\",A[0][0:2])\n",
        "\n",
        "#Math operations are done directly index to index\n",
        "'''\n",
        "For example\n",
        "[1 2    [4 2\n",
        " 3 4] +  3 1]\n",
        "= [\n",
        "  1+4  2+2\n",
        "  3+3  4+1] \n",
        "= [5  4\n",
        "   6  5]\n",
        "'''\n"
      ],
      "metadata": {
        "colab": {
          "base_uri": "https://localhost:8080/"
        },
        "id": "mMtCJq0GNK9T",
        "outputId": "c1992fa3-3e44-46b6-8295-2ddb088b7719"
      },
      "execution_count": 54,
      "outputs": [
        {
          "output_type": "stream",
          "name": "stdout",
          "text": [
            "[[11 12 13]\n",
            " [21 22 23]\n",
            " [31 32 33]]\n",
            "Shape of 2D (3, 3)\n",
            "Dimensions of array 2\n",
            "Total Size of array 9\n",
            "Second row, Third Col 23\n",
            "Second row, Third Col 23\n",
            "First row, first&second col [11 12]\n",
            "First row, first&second col [11 12]\n"
          ]
        }
      ]
    },
    {
      "cell_type": "code",
      "source": [
        "'''\n",
        "QUIZ ON 2D ARRAYS\n",
        "'''\n",
        "\n",
        "#Consider the following list a, convert it to Numpy Array.\n",
        "a = [[1, 2, 3, 4], [5, 6, 7, 8], [9, 10, 11, 12]]\n",
        "npA = np.array(a)\n",
        "print(npA)\n",
        "\n",
        "#Size of array\n",
        "print(\"Size of array\",npA.size)\n",
        "#Access the element on the first row and first and second columns.\n",
        "sliceA = npA[0,0:2]\n",
        "print(\"First row, 1st and 2nd col\",sliceA)\n",
        "#Perform matrix multiplication with the numpy arrays A and B.\n",
        "B = np.array([[0, 1], [1, 0], [1, 1], [-1, 0]])\n",
        "print(\"Multiply A.B\")\n",
        "print(np.dot(npA,B))"
      ],
      "metadata": {
        "colab": {
          "base_uri": "https://localhost:8080/"
        },
        "id": "O84BBYSoTsbC",
        "outputId": "2042dd32-ede8-4652-bc2d-e987383ff560"
      },
      "execution_count": 61,
      "outputs": [
        {
          "output_type": "stream",
          "name": "stdout",
          "text": [
            "[[ 1  2  3  4]\n",
            " [ 5  6  7  8]\n",
            " [ 9 10 11 12]]\n",
            "Size of array 12\n",
            "First row, 1st and 2nd col [1 2]\n",
            "Multiply A.B\n",
            "[[ 1  4]\n",
            " [ 5 12]\n",
            " [ 9 20]]\n"
          ]
        }
      ]
    }
  ]
}